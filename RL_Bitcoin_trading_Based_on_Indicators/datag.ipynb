{
 "cells": [
  {
   "cell_type": "code",
   "execution_count": 2,
   "source": [
    "import pandas as pd"
   ],
   "outputs": [],
   "metadata": {}
  },
  {
   "cell_type": "code",
   "execution_count": 5,
   "source": [
    "df1 = pd.read_csv(\"__pricedata.csv\")\n",
    "df2 = pd.read_csv(\"Artificial_env.csv\")\n"
   ],
   "outputs": [],
   "metadata": {}
  },
  {
   "cell_type": "code",
   "execution_count": 8,
   "source": [
    "df1.Open = df1.Open[0]\n",
    "df1.High = df1.High[0]\n",
    "df1.Low = df1.Low[0]\n",
    "df1.Close = df1.Close[0]\n",
    "df1"
   ],
   "outputs": [
    {
     "output_type": "execute_result",
     "data": {
      "text/plain": [
       "                  Date     Open    High     Low    Close  Volume\n",
       "0     2020-04-23 00:00  7138.29  7158.7  7108.0  7122.21   81.59\n",
       "1     2020-04-23 01:00  7138.29  7158.7  7108.0  7122.21  175.45\n",
       "2     2020-04-23 02:00  7138.29  7158.7  7108.0  7122.21  131.63\n",
       "3     2020-04-23 03:00  7138.29  7158.7  7108.0  7122.21  227.12\n",
       "4     2020-04-23 04:00  7138.29  7158.7  7108.0  7122.21   60.48\n",
       "...                ...      ...     ...     ...      ...     ...\n",
       "4295  2020-10-19 03:00  7138.29  7158.7  7108.0  7122.21   68.79\n",
       "4296  2020-10-19 04:00  7138.29  7158.7  7108.0  7122.21   23.76\n",
       "4297  2020-10-19 05:00  7138.29  7158.7  7108.0  7122.21   40.37\n",
       "4298  2020-10-19 06:00  7138.29  7158.7  7108.0  7122.21   59.73\n",
       "4299  2020-10-19 07:00  7138.29  7158.7  7108.0  7122.21  121.56\n",
       "\n",
       "[4300 rows x 6 columns]"
      ],
      "text/html": [
       "<div>\n",
       "<style scoped>\n",
       "    .dataframe tbody tr th:only-of-type {\n",
       "        vertical-align: middle;\n",
       "    }\n",
       "\n",
       "    .dataframe tbody tr th {\n",
       "        vertical-align: top;\n",
       "    }\n",
       "\n",
       "    .dataframe thead th {\n",
       "        text-align: right;\n",
       "    }\n",
       "</style>\n",
       "<table border=\"1\" class=\"dataframe\">\n",
       "  <thead>\n",
       "    <tr style=\"text-align: right;\">\n",
       "      <th></th>\n",
       "      <th>Date</th>\n",
       "      <th>Open</th>\n",
       "      <th>High</th>\n",
       "      <th>Low</th>\n",
       "      <th>Close</th>\n",
       "      <th>Volume</th>\n",
       "    </tr>\n",
       "  </thead>\n",
       "  <tbody>\n",
       "    <tr>\n",
       "      <th>0</th>\n",
       "      <td>2020-04-23 00:00</td>\n",
       "      <td>7138.29</td>\n",
       "      <td>7158.7</td>\n",
       "      <td>7108.0</td>\n",
       "      <td>7122.21</td>\n",
       "      <td>81.59</td>\n",
       "    </tr>\n",
       "    <tr>\n",
       "      <th>1</th>\n",
       "      <td>2020-04-23 01:00</td>\n",
       "      <td>7138.29</td>\n",
       "      <td>7158.7</td>\n",
       "      <td>7108.0</td>\n",
       "      <td>7122.21</td>\n",
       "      <td>175.45</td>\n",
       "    </tr>\n",
       "    <tr>\n",
       "      <th>2</th>\n",
       "      <td>2020-04-23 02:00</td>\n",
       "      <td>7138.29</td>\n",
       "      <td>7158.7</td>\n",
       "      <td>7108.0</td>\n",
       "      <td>7122.21</td>\n",
       "      <td>131.63</td>\n",
       "    </tr>\n",
       "    <tr>\n",
       "      <th>3</th>\n",
       "      <td>2020-04-23 03:00</td>\n",
       "      <td>7138.29</td>\n",
       "      <td>7158.7</td>\n",
       "      <td>7108.0</td>\n",
       "      <td>7122.21</td>\n",
       "      <td>227.12</td>\n",
       "    </tr>\n",
       "    <tr>\n",
       "      <th>4</th>\n",
       "      <td>2020-04-23 04:00</td>\n",
       "      <td>7138.29</td>\n",
       "      <td>7158.7</td>\n",
       "      <td>7108.0</td>\n",
       "      <td>7122.21</td>\n",
       "      <td>60.48</td>\n",
       "    </tr>\n",
       "    <tr>\n",
       "      <th>...</th>\n",
       "      <td>...</td>\n",
       "      <td>...</td>\n",
       "      <td>...</td>\n",
       "      <td>...</td>\n",
       "      <td>...</td>\n",
       "      <td>...</td>\n",
       "    </tr>\n",
       "    <tr>\n",
       "      <th>4295</th>\n",
       "      <td>2020-10-19 03:00</td>\n",
       "      <td>7138.29</td>\n",
       "      <td>7158.7</td>\n",
       "      <td>7108.0</td>\n",
       "      <td>7122.21</td>\n",
       "      <td>68.79</td>\n",
       "    </tr>\n",
       "    <tr>\n",
       "      <th>4296</th>\n",
       "      <td>2020-10-19 04:00</td>\n",
       "      <td>7138.29</td>\n",
       "      <td>7158.7</td>\n",
       "      <td>7108.0</td>\n",
       "      <td>7122.21</td>\n",
       "      <td>23.76</td>\n",
       "    </tr>\n",
       "    <tr>\n",
       "      <th>4297</th>\n",
       "      <td>2020-10-19 05:00</td>\n",
       "      <td>7138.29</td>\n",
       "      <td>7158.7</td>\n",
       "      <td>7108.0</td>\n",
       "      <td>7122.21</td>\n",
       "      <td>40.37</td>\n",
       "    </tr>\n",
       "    <tr>\n",
       "      <th>4298</th>\n",
       "      <td>2020-10-19 06:00</td>\n",
       "      <td>7138.29</td>\n",
       "      <td>7158.7</td>\n",
       "      <td>7108.0</td>\n",
       "      <td>7122.21</td>\n",
       "      <td>59.73</td>\n",
       "    </tr>\n",
       "    <tr>\n",
       "      <th>4299</th>\n",
       "      <td>2020-10-19 07:00</td>\n",
       "      <td>7138.29</td>\n",
       "      <td>7158.7</td>\n",
       "      <td>7108.0</td>\n",
       "      <td>7122.21</td>\n",
       "      <td>121.56</td>\n",
       "    </tr>\n",
       "  </tbody>\n",
       "</table>\n",
       "<p>4300 rows × 6 columns</p>\n",
       "</div>"
      ]
     },
     "metadata": {},
     "execution_count": 8
    }
   ],
   "metadata": {}
  },
  {
   "cell_type": "code",
   "execution_count": 9,
   "source": [
    "df1.to_csv(\"_pricedataArtif.csv\",index=False)"
   ],
   "outputs": [],
   "metadata": {}
  },
  {
   "cell_type": "code",
   "execution_count": 8,
   "source": [
    "punishment_cofactor = .00001"
   ],
   "outputs": [],
   "metadata": {}
  },
  {
   "cell_type": "code",
   "execution_count": 9,
   "source": [
    "def yaroo ():\n",
    "    global punishment_cofactor\n",
    "    punishment_cofactor *=2"
   ],
   "outputs": [],
   "metadata": {}
  },
  {
   "cell_type": "code",
   "execution_count": 14,
   "source": [
    "yaroo()"
   ],
   "outputs": [],
   "metadata": {}
  },
  {
   "cell_type": "code",
   "execution_count": 15,
   "source": [
    "punishment_cofactor"
   ],
   "outputs": [
    {
     "output_type": "execute_result",
     "data": {
      "text/plain": [
       "8e-05"
      ]
     },
     "metadata": {},
     "execution_count": 15
    }
   ],
   "metadata": {}
  },
  {
   "cell_type": "code",
   "execution_count": null,
   "source": [
    "punishment_cofactor *=2"
   ],
   "outputs": [],
   "metadata": {}
  }
 ],
 "metadata": {
  "orig_nbformat": 4,
  "language_info": {
   "name": "python",
   "version": "3.8.10",
   "mimetype": "text/x-python",
   "codemirror_mode": {
    "name": "ipython",
    "version": 3
   },
   "pygments_lexer": "ipython3",
   "nbconvert_exporter": "python",
   "file_extension": ".py"
  },
  "kernelspec": {
   "name": "python3",
   "display_name": "Python 3.8.10 64-bit"
  },
  "interpreter": {
   "hash": "916dbcbb3f70747c44a77c7bcd40155683ae19c65e1c03b4aa3499c5328201f1"
  }
 },
 "nbformat": 4,
 "nbformat_minor": 2
}